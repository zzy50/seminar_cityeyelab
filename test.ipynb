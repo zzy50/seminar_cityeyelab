{
 "cells": [
  {
   "cell_type": "code",
   "execution_count": null,
   "metadata": {},
   "outputs": [],
   "source": [
    "for i in {1, 2, 4, 8, 16, 32}:\n",
    "    print(f\"{i}: {hash(i)}\")\n",
    "\n",
    "# set타입을 loop를 돌릴 때 무엇이 먼저 나올지 예상하지 못하는 이유?\n",
    "# set타입은 요소들을 hashing하여 저장하기 때문\n"
   ]
  }
 ],
 "metadata": {
  "language_info": {
   "name": "python"
  },
  "orig_nbformat": 4
 },
 "nbformat": 4,
 "nbformat_minor": 2
}
